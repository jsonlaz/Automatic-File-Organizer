{
 "cells": [
  {
   "cell_type": "code",
   "execution_count": 16,
   "id": "613dd3f1-fc99-4e44-9993-b34ecb8c2c8e",
   "metadata": {},
   "outputs": [],
   "source": [
    "import os, shutil"
   ]
  },
  {
   "cell_type": "code",
   "execution_count": 30,
   "id": "0b26f30b-3f1c-461a-97b7-04a4bd51c8cd",
   "metadata": {},
   "outputs": [],
   "source": [
    "# Define the path where your files are located\n",
    "path = r\"C:/Users/Aterbruket/Documents/\""
   ]
  },
  {
   "cell_type": "code",
   "execution_count": 32,
   "id": "c10817ef-d097-4271-8766-fb3ce28059e5",
   "metadata": {},
   "outputs": [],
   "source": [
    "# List all files in the specified directory\n",
    "file_name = os.listdir(path)"
   ]
  },
  {
   "cell_type": "code",
   "execution_count": 22,
   "id": "f4915155-401f-4eae-9086-cecf2845ceb1",
   "metadata": {},
   "outputs": [
    {
     "name": "stdout",
     "output_type": "stream",
     "text": [
      "C:/Users/Aterbruket/Documents/excel files\n",
      "C:/Users/Aterbruket/Documents/setup files\n",
      "C:/Users/Aterbruket/Documents/pdf files\n",
      "C:/Users/Aterbruket/Documents/csv files\n",
      "C:/Users/Aterbruket/Documents/sql files\n",
      "C:/Users/Aterbruket/Documents/powerbi files\n",
      "C:/Users/Aterbruket/Documents/text files\n",
      "C:/Users/Aterbruket/Documents/image files\n"
     ]
    }
   ],
   "source": [
    "folder_names = ['excel files', 'setup files', 'pdf files', 'csv files', 'sql files', 'powerbi files', 'text files', 'image files']\n",
    "\n",
    "for loop in range(0,8):\n",
    "    if not os.path.exists(path + folder_names[loop]):\n",
    "        print(path + folder_names[loop])\n",
    "        os.makedirs(path + folder_names[loop])"
   ]
  },
  {
   "cell_type": "code",
   "execution_count": 24,
   "id": "2a4ebc6b-bfe0-410c-bffa-202313c1606e",
   "metadata": {},
   "outputs": [],
   "source": [
    "for file in file_name:\n",
    "    if \".xlsx\" in file and not os.path.exists(path + 'excel files/' + file):\n",
    "        shutil.move(path + file, path + 'excel files/' + file)\n",
    "    elif \".csv\" in file and not os.path.exists(path + 'csv files/' + file):\n",
    "        shutil.move(path + file, path + 'excel files/' + file)\n",
    "    elif \".exe\" in file and not os.path.exists(path + 'setup files/' + file):\n",
    "        shutil.move(path + file, path + 'setup files/' + file)\n",
    "    elif \".pdf\" in file and not os.path.exists(path + 'pdf files/' + file):\n",
    "        shutil.move(path + file, path + 'pdf files/' + file)\n",
    "    elif \".sql\" in file and not os.path.exists(path + 'sql files/' + file):\n",
    "        shutil.move(path + file, path + 'sql files/' + file)\n",
    "    elif \".pbix\" in file and not os.path.exists(path + 'powerbi files/' + file):\n",
    "        shutil.move(path + file, path + 'powerbi files/' + file)\n",
    "    elif \".docx\" in file and not os.path.exists(path + 'text files/' + file):\n",
    "        shutil.move(path + file, path + 'text files/' + file)\n",
    "    elif \".jpg\" in file or \".jpeg\" in file and not os.path.exists(path + 'image files/'+ file):\n",
    "        shutil.move(path + file, path + 'image files/' + file)"
   ]
  },
  {
   "cell_type": "code",
   "execution_count": 26,
   "id": "7ffcfd82-f8f5-4aeb-bf98-7c373a1bd12d",
   "metadata": {
    "scrolled": true
   },
   "outputs": [
    {
     "data": {
      "text/plain": [
       "['countries of the world.txt',\n",
       " 'csv files',\n",
       " 'excel files',\n",
       " 'image files',\n",
       " 'json_sample.json',\n",
       " 'pdf files',\n",
       " 'powerbi files',\n",
       " 'setup files',\n",
       " 'sql files',\n",
       " 'text files']"
      ]
     },
     "execution_count": 26,
     "metadata": {},
     "output_type": "execute_result"
    }
   ],
   "source": [
    "os.listdir(path)"
   ]
  },
  {
   "cell_type": "code",
   "execution_count": null,
   "id": "794d9781-9f0b-4061-a437-51718c58c7e0",
   "metadata": {},
   "outputs": [],
   "source": []
  }
 ],
 "metadata": {
  "kernelspec": {
   "display_name": "Python [conda env:base] *",
   "language": "python",
   "name": "conda-base-py"
  },
  "language_info": {
   "codemirror_mode": {
    "name": "ipython",
    "version": 3
   },
   "file_extension": ".py",
   "mimetype": "text/x-python",
   "name": "python",
   "nbconvert_exporter": "python",
   "pygments_lexer": "ipython3",
   "version": "3.12.7"
  }
 },
 "nbformat": 4,
 "nbformat_minor": 5
}
